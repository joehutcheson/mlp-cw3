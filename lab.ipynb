{
 "cells": [
  {
   "cell_type": "code",
   "execution_count": 5,
   "metadata": {
    "collapsed": true
   },
   "outputs": [
    {
     "ename": "ValueError",
     "evalue": "[] is not in list",
     "output_type": "error",
     "traceback": [
      "\u001B[0;31m---------------------------------------------------------------------------\u001B[0m",
      "\u001B[0;31mValueError\u001B[0m                                Traceback (most recent call last)",
      "Cell \u001B[0;32mIn[5], line 4\u001B[0m\n\u001B[1;32m      2\u001B[0m environment \u001B[38;5;241m=\u001B[39m chess\u001B[38;5;241m.\u001B[39menv()\n\u001B[1;32m      3\u001B[0m environment\u001B[38;5;241m.\u001B[39mreset()\n\u001B[0;32m----> 4\u001B[0m ob \u001B[38;5;241m=\u001B[39m \u001B[43menvironment\u001B[49m\u001B[38;5;241;43m.\u001B[39;49m\u001B[43mobserve\u001B[49m\u001B[43m(\u001B[49m\u001B[43magent\u001B[49m\u001B[38;5;241;43m=\u001B[39;49m\u001B[43m[\u001B[49m\u001B[43m]\u001B[49m\u001B[43m)\u001B[49m\n\u001B[1;32m      6\u001B[0m \u001B[38;5;124;03m'''\u001B[39;00m\n\u001B[1;32m      7\u001B[0m \u001B[38;5;124;03menv.reset()\u001B[39;00m\n\u001B[1;32m      8\u001B[0m \u001B[38;5;124;03mfor agent in env.agent_iter():\u001B[39;00m\n\u001B[0;32m   (...)\u001B[0m\n\u001B[1;32m     11\u001B[0m \u001B[38;5;124;03m    env.step(action)\u001B[39;00m\n\u001B[1;32m     12\u001B[0m \u001B[38;5;124;03m    '''\u001B[39;00m\n",
      "File \u001B[0;32m~/anaconda3/envs/gp/lib/python3.9/site-packages/pettingzoo/utils/wrappers/order_enforcing.py:80\u001B[0m, in \u001B[0;36mOrderEnforcingWrapper.observe\u001B[0;34m(self, agent)\u001B[0m\n\u001B[1;32m     78\u001B[0m \u001B[38;5;28;01mif\u001B[39;00m \u001B[38;5;129;01mnot\u001B[39;00m \u001B[38;5;28mself\u001B[39m\u001B[38;5;241m.\u001B[39m_has_reset:\n\u001B[1;32m     79\u001B[0m     EnvLogger\u001B[38;5;241m.\u001B[39merror_observe_before_reset()\n\u001B[0;32m---> 80\u001B[0m \u001B[38;5;28;01mreturn\u001B[39;00m \u001B[38;5;28;43msuper\u001B[39;49m\u001B[43m(\u001B[49m\u001B[43m)\u001B[49m\u001B[38;5;241;43m.\u001B[39;49m\u001B[43mobserve\u001B[49m\u001B[43m(\u001B[49m\u001B[43magent\u001B[49m\u001B[43m)\u001B[49m\n",
      "File \u001B[0;32m~/anaconda3/envs/gp/lib/python3.9/site-packages/pettingzoo/utils/wrappers/base.py:102\u001B[0m, in \u001B[0;36mBaseWrapper.observe\u001B[0;34m(self, agent)\u001B[0m\n\u001B[1;32m    101\u001B[0m \u001B[38;5;28;01mdef\u001B[39;00m \u001B[38;5;21mobserve\u001B[39m(\u001B[38;5;28mself\u001B[39m, agent):\n\u001B[0;32m--> 102\u001B[0m     \u001B[38;5;28;01mreturn\u001B[39;00m \u001B[38;5;28;43mself\u001B[39;49m\u001B[38;5;241;43m.\u001B[39;49m\u001B[43menv\u001B[49m\u001B[38;5;241;43m.\u001B[39;49m\u001B[43mobserve\u001B[49m\u001B[43m(\u001B[49m\u001B[43magent\u001B[49m\u001B[43m)\u001B[49m\n",
      "File \u001B[0;32m~/anaconda3/envs/gp/lib/python3.9/site-packages/pettingzoo/utils/wrappers/base.py:102\u001B[0m, in \u001B[0;36mBaseWrapper.observe\u001B[0;34m(self, agent)\u001B[0m\n\u001B[1;32m    101\u001B[0m \u001B[38;5;28;01mdef\u001B[39;00m \u001B[38;5;21mobserve\u001B[39m(\u001B[38;5;28mself\u001B[39m, agent):\n\u001B[0;32m--> 102\u001B[0m     \u001B[38;5;28;01mreturn\u001B[39;00m \u001B[38;5;28;43mself\u001B[39;49m\u001B[38;5;241;43m.\u001B[39;49m\u001B[43menv\u001B[49m\u001B[38;5;241;43m.\u001B[39;49m\u001B[43mobserve\u001B[49m\u001B[43m(\u001B[49m\u001B[43magent\u001B[49m\u001B[43m)\u001B[49m\n",
      "File \u001B[0;32m~/anaconda3/envs/gp/lib/python3.9/site-packages/pettingzoo/utils/wrappers/terminate_illegal.py:23\u001B[0m, in \u001B[0;36mTerminateIllegalWrapper.observe\u001B[0;34m(self, agent)\u001B[0m\n\u001B[1;32m     22\u001B[0m \u001B[38;5;28;01mdef\u001B[39;00m \u001B[38;5;21mobserve\u001B[39m(\u001B[38;5;28mself\u001B[39m, agent):\n\u001B[0;32m---> 23\u001B[0m     obs \u001B[38;5;241m=\u001B[39m \u001B[38;5;28;43msuper\u001B[39;49m\u001B[43m(\u001B[49m\u001B[43m)\u001B[49m\u001B[38;5;241;43m.\u001B[39;49m\u001B[43mobserve\u001B[49m\u001B[43m(\u001B[49m\u001B[43magent\u001B[49m\u001B[43m)\u001B[49m\n\u001B[1;32m     24\u001B[0m     \u001B[38;5;28;01mif\u001B[39;00m agent \u001B[38;5;241m==\u001B[39m \u001B[38;5;28mself\u001B[39m\u001B[38;5;241m.\u001B[39magent_selection:\n\u001B[1;32m     25\u001B[0m         \u001B[38;5;28mself\u001B[39m\u001B[38;5;241m.\u001B[39m_prev_obs \u001B[38;5;241m=\u001B[39m obs\n",
      "File \u001B[0;32m~/anaconda3/envs/gp/lib/python3.9/site-packages/pettingzoo/utils/wrappers/base.py:102\u001B[0m, in \u001B[0;36mBaseWrapper.observe\u001B[0;34m(self, agent)\u001B[0m\n\u001B[1;32m    101\u001B[0m \u001B[38;5;28;01mdef\u001B[39;00m \u001B[38;5;21mobserve\u001B[39m(\u001B[38;5;28mself\u001B[39m, agent):\n\u001B[0;32m--> 102\u001B[0m     \u001B[38;5;28;01mreturn\u001B[39;00m \u001B[38;5;28;43mself\u001B[39;49m\u001B[38;5;241;43m.\u001B[39;49m\u001B[43menv\u001B[49m\u001B[38;5;241;43m.\u001B[39;49m\u001B[43mobserve\u001B[49m\u001B[43m(\u001B[49m\u001B[43magent\u001B[49m\u001B[43m)\u001B[49m\n",
      "File \u001B[0;32m~/anaconda3/envs/gp/lib/python3.9/site-packages/pettingzoo/classic/chess/chess.py:196\u001B[0m, in \u001B[0;36mraw_env.observe\u001B[0;34m(self, agent)\u001B[0m\n\u001B[1;32m    194\u001B[0m \u001B[38;5;28;01mdef\u001B[39;00m \u001B[38;5;21mobserve\u001B[39m(\u001B[38;5;28mself\u001B[39m, agent):\n\u001B[1;32m    195\u001B[0m     observation \u001B[38;5;241m=\u001B[39m chess_utils\u001B[38;5;241m.\u001B[39mget_observation(\n\u001B[0;32m--> 196\u001B[0m         \u001B[38;5;28mself\u001B[39m\u001B[38;5;241m.\u001B[39mboard, \u001B[38;5;28;43mself\u001B[39;49m\u001B[38;5;241;43m.\u001B[39;49m\u001B[43mpossible_agents\u001B[49m\u001B[38;5;241;43m.\u001B[39;49m\u001B[43mindex\u001B[49m\u001B[43m(\u001B[49m\u001B[43magent\u001B[49m\u001B[43m)\u001B[49m\n\u001B[1;32m    197\u001B[0m     )\n\u001B[1;32m    198\u001B[0m     observation \u001B[38;5;241m=\u001B[39m np\u001B[38;5;241m.\u001B[39mdstack((observation[:, :, :\u001B[38;5;241m7\u001B[39m], \u001B[38;5;28mself\u001B[39m\u001B[38;5;241m.\u001B[39mboard_history))\n\u001B[1;32m    199\u001B[0m     legal_moves \u001B[38;5;241m=\u001B[39m (\n\u001B[1;32m    200\u001B[0m         chess_utils\u001B[38;5;241m.\u001B[39mlegal_moves(\u001B[38;5;28mself\u001B[39m\u001B[38;5;241m.\u001B[39mboard) \u001B[38;5;28;01mif\u001B[39;00m agent \u001B[38;5;241m==\u001B[39m \u001B[38;5;28mself\u001B[39m\u001B[38;5;241m.\u001B[39magent_selection \u001B[38;5;28;01melse\u001B[39;00m []\n\u001B[1;32m    201\u001B[0m     )\n",
      "\u001B[0;31mValueError\u001B[0m: [] is not in list"
     ]
    }
   ],
   "source": [
    "from pettingzoo.classic import chess_v5 as chess\n",
    "environment = chess.env()\n",
    "environment.reset()\n",
    "ob = environment.observe(agent=[])\n",
    "\n",
    "\n",
    "# env.reset()\n",
    "# for agent in env.agent_iter():\n",
    "#     observation, reward, termination, truncation, info = env.last()\n",
    "#     action = policy(observation, agent)\n",
    "#     env.step(action)\n",
    "\n"
   ]
  }
 ],
 "metadata": {
  "kernelspec": {
   "display_name": "Python 3",
   "language": "python",
   "name": "python3"
  },
  "language_info": {
   "codemirror_mode": {
    "name": "ipython",
    "version": 2
   },
   "file_extension": ".py",
   "mimetype": "text/x-python",
   "name": "python",
   "nbconvert_exporter": "python",
   "pygments_lexer": "ipython2",
   "version": "2.7.6"
  }
 },
 "nbformat": 4,
 "nbformat_minor": 0
}
